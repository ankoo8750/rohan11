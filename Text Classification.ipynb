{
 "cells": [
  {
   "cell_type": "code",
   "execution_count": 1,
   "metadata": {},
   "outputs": [
    {
     "name": "stderr",
     "output_type": "stream",
     "text": [
      "[nltk_data] Downloading package stopwords to\n",
      "[nltk_data]     C:\\Users\\ROHAN\\AppData\\Roaming\\nltk_data...\n",
      "[nltk_data]   Package stopwords is already up-to-date!\n"
     ]
    }
   ],
   "source": [
    "import pandas as pd\n",
    "import numpy as np\n",
    "import nltk\n",
    "nltk.download(\"stopwords\")\n",
    "from nltk.corpus import stopwords\n",
    "from sklearn.model_selection import train_test_split"
   ]
  },
  {
   "cell_type": "markdown",
   "metadata": {},
   "source": [
    "# Conversion of text data to the dataframe format:-"
   ]
  },
  {
   "cell_type": "code",
   "execution_count": 2,
   "metadata": {},
   "outputs": [],
   "source": [
    "#Loading Text data into X and targets into Y.\n",
    "\n",
    "import os\n",
    "rootdir = 'C:/20_newsgroups'\n",
    "X=[]\n",
    "Y=[]\n",
    "\n",
    "for subdir, dirs, files in os.walk(rootdir):\n",
    "    for file in files:\n",
    "        p=os.path.join(subdir, file)\n",
    "        k=open(p,\"r\")\n",
    "        X.append(k.read())\n",
    "        y=subdir.replace(\"C:/20_newsgroups\\\\\",\"\")\n",
    "        Y.append(y)    "
   ]
  },
  {
   "cell_type": "code",
   "execution_count": 3,
   "metadata": {},
   "outputs": [],
   "source": [
    "stop_words=set(stopwords.words(\"english\"))       #Getting all the stopwords from the nltk library.\n",
    "def removestopwords(x):\n",
    "    words=x.split(\" \")\n",
    "    filtered_words=[w for w in words if not w.lower() in stop_words]\n",
    "    y=\" \".join(filtered_words)\n",
    "    return y"
   ]
  },
  {
   "cell_type": "code",
   "execution_count": 4,
   "metadata": {},
   "outputs": [],
   "source": [
    "#To remove all the special characters.\n",
    "def removespecialcharacter(x):\n",
    "    specialchar=[\"0\",\"1\",\"2\",\"3\",\"4\",\"5\",\"6\",\"7\",\"8\",\"9\",\"~\",\"`\",\"!\",\"@\",\"#\",\"$\",\"%\",\"^\",\"&\",\"*\",\"(\",\")\",\"-\",\"_\",\"+\",\"=\",\"{\",\"[\",\n",
    "                 \"]\",\"}\",\";\",\":\",\"'\",\"<\",\",\",\">\",\".\",\"/\",\"?\",\"\\\"\",\"|\",\".\",\"\\n\",\"\\t\"]\n",
    "    for i in specialchar:\n",
    "                 x=x.replace(i,\" \")\n",
    "    return x"
   ]
  },
  {
   "cell_type": "code",
   "execution_count": 5,
   "metadata": {},
   "outputs": [],
   "source": [
    "X1=[]\n",
    "X2=[]\n",
    "for i in range(len(X)):\n",
    "    X1.append(removespecialcharacter(X[i]))     #Removes all the special characters from the text datafile as those are not useful to us.\n",
    "for i in range(len(X1)):\n",
    "    X2.append(removestopwords(X1[i]))           #To remove all the stop_words"
   ]
  },
  {
   "cell_type": "code",
   "execution_count": 6,
   "metadata": {},
   "outputs": [],
   "source": [
    "#To make a list of list of words by splitting each article.\n",
    "X3=[]\n",
    "for i in range(len(X2)):\n",
    "    words=X2[i].split(\" \")\n",
    "    X3.append(words)"
   ]
  },
  {
   "cell_type": "code",
   "execution_count": 7,
   "metadata": {},
   "outputs": [],
   "source": [
    "#To remove the empty string from the list.\n",
    "for i in range(len(X3)):\n",
    "    while(\"\" in X3[i]):\n",
    "        X3[i].remove(\"\")"
   ]
  },
  {
   "cell_type": "code",
   "execution_count": 8,
   "metadata": {},
   "outputs": [],
   "source": [
    "#To get the list of features from X3 by picking out the unique words from the X3.\n",
    "X4=[]\n",
    "X3=np.array(X3)\n",
    "for i in range(len(X3)):\n",
    "    for item in X3[i]:\n",
    "        X4.append(item)\n",
    "features=set(X4)\n",
    "\n",
    "#To remove the words with 1 or 2 occurence & choosing the top \"k\" features:-\n",
    "from collections import Counter\n",
    "coun=Counter(X4)\n",
    "feature1=features.copy()\n",
    "for word in feature1:\n",
    "    if coun[word]<200:\n",
    "        features.remove(word)\n",
    "features=list(features)    #As set object is not subscriptable,we have to change it into list."
   ]
  },
  {
   "cell_type": "code",
   "execution_count": 9,
   "metadata": {},
   "outputs": [],
   "source": [
    "#To make the dataframe of count of words:-\n",
    "row=len(Y)\n",
    "col=len(features)\n",
    "X=np.zeros((row,col),int)              #To make an empty dataframe of the required size.\n",
    "\n",
    "for i in range(row):\n",
    "    coun_words=Counter(X3[i])\n",
    "    for k in range(col):                              \n",
    "        X[i][k]+=coun_words[features[k]]       #To get the count of each feature in its respective row."
   ]
  },
  {
   "cell_type": "code",
   "execution_count": 10,
   "metadata": {},
   "outputs": [],
   "source": [
    "#So we have got out data in the right format. \n",
    "X_data=X\n",
    "Y_data=Y"
   ]
  },
  {
   "cell_type": "code",
   "execution_count": 11,
   "metadata": {},
   "outputs": [],
   "source": [
    "#To make continuos data into labelled data:-\n",
    "\n",
    "def makeLabelled(column):\n",
    "    third_limit=column.mean()\n",
    "    second_limit=0.5*third_limit\n",
    "    first_limit=0.5*second_limit\n",
    "    forth_limit=1.5*third_limit\n",
    "    fifth_limit=2.5*third_limit\n",
    "    for i in range(len(column)):\n",
    "        if (column[i]<first_limit):\n",
    "            column[i]=0\n",
    "        elif(column[i]<second_limit):\n",
    "            column[i]=1\n",
    "        elif(column[i]<third_limit):\n",
    "            column[i]=2\n",
    "        elif(column[i]<forth_limit):\n",
    "            column[i]=3\n",
    "        elif(column[i]<fifth_limit):\n",
    "            column[i]=4\n",
    "        else:\n",
    "            column[i]=5\n",
    "    return column"
   ]
  },
  {
   "cell_type": "code",
   "execution_count": 12,
   "metadata": {},
   "outputs": [],
   "source": [
    "for i in range(0,X_data.shape[-1]):\n",
    "    X_data[:,i]=makeLabelled(X_data[:,i])"
   ]
  },
  {
   "cell_type": "code",
   "execution_count": 13,
   "metadata": {},
   "outputs": [],
   "source": [
    "X_train,X_test,Y_train,Y_test = train_test_split(X_data,Y_data,random_state=1)"
   ]
  },
  {
   "cell_type": "code",
   "execution_count": 14,
   "metadata": {},
   "outputs": [],
   "source": [
    "#APPLYING THE MULTINOMIAL CLASSIFIER IN SKLEARN:-\n",
    "from sklearn.naive_bayes import MultinomialNB\n",
    "clf=MultinomialNB()\n",
    "clf.fit(X_train,Y_train)\n",
    "Y_pred=clf.predict(X_test)"
   ]
  },
  {
   "cell_type": "markdown",
   "metadata": {},
   "source": [
    "# Naive Baye's From Scratch:-"
   ]
  },
  {
   "cell_type": "code",
   "execution_count": 18,
   "metadata": {},
   "outputs": [],
   "source": [
    "#To Make The Dictionary Of the data.\n",
    "\n",
    "def make_dictionary(X_train,Y_train):\n",
    "    result={}\n",
    "    distinct_classes=set(Y_train)\n",
    "    for current_class in distinct_classes:\n",
    "        result[current_class]={}               #For each distinct class,We add a dictionary inside dictionary.\n",
    "        result[\"total_data\"]=len(Y_train)      #Storing the total number of elements in the first layer of dictionary.\n",
    "        current_class_rows=(Y_train==current_class) #To get all the rows have class as current class.\n",
    "        X_train_current=X_train[current_class_rows]  \n",
    "        Y_train_current=Y_train[current_class_rows]\n",
    "        num_features=X_train.shape[1]\n",
    "        result[current_class][\"total_count\"]=len(Y_train_current) #To get the number of data points in each class.\n",
    "        for j in range(1,num_features+1):\n",
    "            result[current_class][j]={}\n",
    "            all_possible_values=set(X_train[:,j-1])    #All possible values feature j could take.\n",
    "            for current_value in all_possible_values:\n",
    "                result[current_class][j][current_value]=(X_train_current[:,j-1]==current_value).sum()  #Count of distinct value of each feature in the respective class.\n",
    "    return result"
   ]
  },
  {
   "cell_type": "code",
   "execution_count": 19,
   "metadata": {},
   "outputs": [],
   "source": [
    "#To calculate the probabilty of features belonging to each class:- \n",
    "\n",
    "def probabilty(dictionary,x,current_class):\n",
    "    output=np.log(dictionary[current_class][\"total_count\"])-np.log(dictionary[\"total_data\"])\n",
    "    num_features=len(dictionary[current_class].keys())-1\n",
    "    for j in range(1,num_features+1):\n",
    "        xj=x[j-1]\n",
    "        count_current_class_with_value_xj=dictionary[current_class][j][xj]+1\n",
    "        count_current_class=dictionary[current_class][\"total_count\"]+len(dictionary[current_class][j].keys())\n",
    "        current_xj_probability=np.log(count_current_class_with_value_xj)-np.log(count_current_class)\n",
    "        output=output+current_xj_probability #We are using log probabilities as probabilities are so small.\n",
    "    return output"
   ]
  },
  {
   "cell_type": "code",
   "execution_count": 20,
   "metadata": {},
   "outputs": [],
   "source": [
    "#To calculate the output for each test data:-\n",
    "\n",
    "def predictSinglePoint(dictionary,x):\n",
    "    classes=dictionary.keys()\n",
    "    best_p=-100\n",
    "    best_class=-1\n",
    "    first_run=True\n",
    "    for current_class in classes:\n",
    "        if (current_class==\"total_data\"):\n",
    "            continue\n",
    "        p_current_class=probabilty(dictionary,x,current_class)\n",
    "        if(first_run or p_current_class>best_p):\n",
    "            best_p=p_current_class\n",
    "            best_class=current_class\n",
    "    return best_class"
   ]
  },
  {
   "cell_type": "code",
   "execution_count": 21,
   "metadata": {},
   "outputs": [],
   "source": [
    "#To calculate Output:-\n",
    "\n",
    "def predict(dictionary,X_test):\n",
    "    y_pred=[]\n",
    "    for x in X_test:\n",
    "        x_class=predictSinglePoint(dictionary,x)\n",
    "        y_pred.append(x_class)\n",
    "    return y_pred"
   ]
  },
  {
   "cell_type": "code",
   "execution_count": 22,
   "metadata": {},
   "outputs": [],
   "source": [
    "dictionary=make_dictionary(X_train,Y_train)"
   ]
  },
  {
   "cell_type": "code",
   "execution_count": null,
   "metadata": {},
   "outputs": [],
   "source": [
    "Y_pred_from_scratch_NB=predict(dictionary,X_test)"
   ]
  },
  {
   "cell_type": "markdown",
   "metadata": {},
   "source": [
    "# Comparing The Result:-"
   ]
  },
  {
   "cell_type": "code",
   "execution_count": 15,
   "metadata": {},
   "outputs": [
    {
     "name": "stdout",
     "output_type": "stream",
     "text": [
      "                          precision    recall  f1-score   support\n",
      "\n",
      "             alt.atheism       0.81      0.82      0.82       261\n",
      "           comp.graphics       0.81      0.85      0.83       248\n",
      " comp.os.ms-windows.misc       0.92      0.96      0.94       253\n",
      "comp.sys.ibm.pc.hardware       0.91      0.93      0.92       260\n",
      "   comp.sys.mac.hardware       0.94      0.95      0.94       266\n",
      "          comp.windows.x       0.95      0.88      0.92       265\n",
      "            misc.forsale       0.89      0.94      0.92       252\n",
      "               rec.autos       0.92      0.91      0.92       223\n",
      "         rec.motorcycles       0.98      0.95      0.97       293\n",
      "      rec.sport.baseball       0.99      0.98      0.99       245\n",
      "        rec.sport.hockey       0.99      0.98      0.99       247\n",
      "               sci.crypt       0.96      0.96      0.96       248\n",
      "         sci.electronics       0.92      0.97      0.94       239\n",
      "                 sci.med       0.97      0.94      0.96       236\n",
      "               sci.space       0.95      0.95      0.95       238\n",
      "  soc.religion.christian       0.98      1.00      0.99       233\n",
      "      talk.politics.guns       0.86      0.92      0.89       255\n",
      "   talk.politics.mideast       0.96      0.95      0.96       258\n",
      "      talk.politics.misc       0.76      0.75      0.76       228\n",
      "      talk.religion.misc       0.73      0.63      0.68       252\n",
      "\n",
      "               micro avg       0.91      0.91      0.91      5000\n",
      "               macro avg       0.91      0.91      0.91      5000\n",
      "            weighted avg       0.91      0.91      0.91      5000\n",
      "\n"
     ]
    }
   ],
   "source": [
    "#Report of Sklearn.Multinomial():\n",
    "\n",
    "from sklearn.metrics import classification_report,confusion_matrix\n",
    "print(classification_report(Y_test,Y_pred))"
   ]
  },
  {
   "cell_type": "code",
   "execution_count": 16,
   "metadata": {},
   "outputs": [
    {
     "name": "stdout",
     "output_type": "stream",
     "text": [
      "[[215   2   0   0   0   1   0   0   0   1   0   1   2   0   1   1   0   0\n",
      "    2  35]\n",
      " [  0 211   6   6   7   7   3   0   0   0   0   3   1   2   2   0   0   0\n",
      "    0   0]\n",
      " [  0   3 243   3   0   3   1   0   0   0   0   0   0   0   0   0   0   0\n",
      "    0   0]\n",
      " [  0   4   3 242   5   0   4   0   0   0   0   0   2   0   0   0   0   0\n",
      "    0   0]\n",
      " [  0   2   2   7 253   0   1   0   0   0   0   0   0   1   0   0   0   0\n",
      "    0   0]\n",
      " [  0  16   9   3   0 233   2   1   0   0   0   0   0   0   0   0   1   0\n",
      "    0   0]\n",
      " [  0   0   0   2   2   0 237   4   1   0   0   0   5   1   0   0   0   0\n",
      "    0   0]\n",
      " [  0   0   0   0   0   0   9 204   2   0   0   0   4   0   0   0   3   0\n",
      "    1   0]\n",
      " [  0   0   0   0   0   0   3  10 279   0   0   0   0   0   0   0   0   0\n",
      "    1   0]\n",
      " [  0   0   0   0   0   0   1   0   1 241   2   0   0   0   0   0   0   0\n",
      "    0   0]\n",
      " [  0   0   0   0   0   0   0   0   1   1 243   0   0   0   0   0   0   0\n",
      "    2   0]\n",
      " [  0   6   0   0   0   0   1   0   0   0   0 237   2   0   1   0   1   0\n",
      "    0   0]\n",
      " [  0   1   0   2   3   0   0   1   0   0   0   0 231   0   1   0   0   0\n",
      "    0   0]\n",
      " [  1   5   1   0   0   0   3   1   0   0   0   0   2 223   0   0   0   0\n",
      "    0   0]\n",
      " [  0   7   0   0   0   0   0   0   0   0   0   1   3   1 225   0   0   0\n",
      "    0   1]\n",
      " [  0   0   0   0   0   0   0   0   0   0   0   0   0   0   0 233   0   0\n",
      "    0   0]\n",
      " [  0   0   0   0   0   0   0   0   0   0   0   4   0   0   0   0 235   1\n",
      "   11   4]\n",
      " [  0   0   0   0   0   0   0   0   0   0   0   0   0   0   0   0   1 246\n",
      "   11   0]\n",
      " [  0   1   0   0   0   0   0   0   0   0   0   0   0   1   5   0  22   9\n",
      "  172  18]\n",
      " [ 48   3   0   0   0   0   0   0   0   0   0   0   0   0   1   4  11   0\n",
      "   25 160]]\n"
     ]
    }
   ],
   "source": [
    "print(confusion_matrix(Y_test,Y_pred))"
   ]
  },
  {
   "cell_type": "code",
   "execution_count": 17,
   "metadata": {},
   "outputs": [
    {
     "data": {
      "text/plain": [
       "0.9126"
      ]
     },
     "execution_count": 17,
     "metadata": {},
     "output_type": "execute_result"
    }
   ],
   "source": [
    "from sklearn.metrics import accuracy_score\n",
    "accuracy_score(Y_test,Y_pred)"
   ]
  },
  {
   "cell_type": "code",
   "execution_count": null,
   "metadata": {},
   "outputs": [],
   "source": [
    "#Report of predictions Of Naive Baye's From Scratch\n",
    "\n",
    "from sklearn.metrics import classification_report,confusion_matrix\n",
    "print(classification_report(Y_test,Y_pred_from_scratch_NB))"
   ]
  },
  {
   "cell_type": "code",
   "execution_count": null,
   "metadata": {},
   "outputs": [],
   "source": [
    "print(confusion_matrix(Y_test,Y_pred_from_scratch_NB))"
   ]
  },
  {
   "cell_type": "code",
   "execution_count": null,
   "metadata": {},
   "outputs": [],
   "source": [
    "from sklearn.metrics import accuracy_score\n",
    "print(accuracy_score(Y_test,Y_pred_from_scratch_NB))"
   ]
  }
 ],
 "metadata": {
  "kernelspec": {
   "display_name": "Python 3",
   "language": "python",
   "name": "python3"
  },
  "language_info": {
   "codemirror_mode": {
    "name": "ipython",
    "version": 3
   },
   "file_extension": ".py",
   "mimetype": "text/x-python",
   "name": "python",
   "nbconvert_exporter": "python",
   "pygments_lexer": "ipython3",
   "version": "3.7.3"
  }
 },
 "nbformat": 4,
 "nbformat_minor": 2
}
